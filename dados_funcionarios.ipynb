{
  "nbformat": 4,
  "nbformat_minor": 0,
  "metadata": {
    "colab": {
      "provenance": [],
      "authorship_tag": "ABX9TyPFdpbfV6/BANTaz4l8jWRc",
      "include_colab_link": true
    },
    "kernelspec": {
      "name": "python3",
      "display_name": "Python 3"
    },
    "language_info": {
      "name": "python"
    }
  },
  "cells": [
    {
      "cell_type": "markdown",
      "metadata": {
        "id": "view-in-github",
        "colab_type": "text"
      },
      "source": [
        "<a href=\"https://colab.research.google.com/github/PhilippeDi4s/UNISO/blob/fundamentos_dados/dados_funcionarios.ipynb\" target=\"_parent\"><img src=\"https://colab.research.google.com/assets/colab-badge.svg\" alt=\"Open In Colab\"/></a>"
      ]
    },
    {
      "cell_type": "code",
      "execution_count": 51,
      "metadata": {
        "collapsed": true,
        "id": "ay8Oq5W4IItn"
      },
      "outputs": [],
      "source": [
        "import pandas as pd\n",
        "path = \"/dados-funcionarios.csv\"  # Carrega o arquivo de dados\n",
        "df = pd.read_csv(path)\n"
      ]
    },
    {
      "cell_type": "code",
      "source": [
        "# Remove caracteres não numéricos da coluna salário\n",
        "df[\"Salary\"] = df[\"Salary\"].replace(r\"[^\\d.]\", \"\", regex=True)\n",
        "\n",
        "#df são DataFrames que são essencialmente tabelas que guardam seus dados, onde você pode acessá-los individualmente através de seus nomes"
      ],
      "metadata": {
        "id": "HA956c7XQn56"
      },
      "execution_count": 52,
      "outputs": []
    },
    {
      "cell_type": "code",
      "source": [
        "df[\"Salary\"] = pd.to_numeric(df[\"Salary\"]) # Converte a coluna 'Salary' para o tipo numérico (float ou int)\n",
        "ms = df[\"Salary\"].median()\n",
        "sc = df[\"Salary\"].fillna(ms)\n",
        "df[\"Salary\"] = sc"
      ],
      "metadata": {
        "id": "seYGkOKhhRzx"
      },
      "execution_count": 53,
      "outputs": []
    },
    {
      "cell_type": "code",
      "source": [
        "# Padroniza os nomes, deixando as iniciais maiúsculas\n",
        "df[\"Name\"] = df[\"Name\"].str.title()\n",
        "\n",
        "# Remove as linhas com nomes duplicados\n",
        "df.drop_duplicates(subset=[\"Name\"], inplace=True)\n"
      ],
      "metadata": {
        "id": "_d7mAgEuayP9"
      },
      "execution_count": 54,
      "outputs": []
    },
    {
      "cell_type": "code",
      "source": [
        "mi = df[\"Age\"].median()   # Calcula a mediana das idades\n",
        "ic = df[\"Age\"].fillna(mi) # Vai pegar todos os valores não disponíveis e vai preenche-los com a mi(idade mediana). fill-> encher, na-> not available\n",
        "df[\"Age\"] = ic\n"
      ],
      "metadata": {
        "id": "TOJFM8HkghEt"
      },
      "execution_count": 55,
      "outputs": []
    },
    {
      "cell_type": "code",
      "source": [
        "me = df[\"Joining Date\"].mode()[0] # Usar moda para calcular datas\n",
        "ec = df[\"Joining Date\"].fillna(me)\n",
        "df[\"Joining Date\"] = ec"
      ],
      "metadata": {
        "id": "TOZAQOIajUGd"
      },
      "execution_count": 56,
      "outputs": []
    },
    {
      "cell_type": "code",
      "source": [
        "mr = df[\"Rating\"].median()\n",
        "cr = df[\"Rating\"].fillna(mr)\n",
        "df[\"Rating\"] = cr"
      ],
      "metadata": {
        "id": "fYKQXvynlib6"
      },
      "execution_count": 57,
      "outputs": []
    },
    {
      "cell_type": "code",
      "source": [
        "print(df.to_string()) #Exibe os dados"
      ],
      "metadata": {
        "colab": {
          "base_uri": "https://localhost:8080/"
        },
        "id": "7l0KQySHQRJy",
        "outputId": "ac822dc3-e306-454f-b16b-cd9578af9b45",
        "collapsed": true
      },
      "execution_count": 58,
      "outputs": [
        {
          "output_type": "stream",
          "name": "stdout",
          "text": [
            "                 Name   Age   Salary        Department Joining Date  Rating\n",
            "0         David Gomes  29.0  54000.0         Logistics   2016-11-22     4.0\n",
            "1      Nina Rodrigues  29.0  57000.0           Finance   2019-07-23     3.8\n",
            "2       Lucy Ferreira  30.0  57000.0                HR   2018-08-10     4.2\n",
            "3          Oscar Lima  32.0  65000.0                HR   2019-01-05     3.9\n",
            "4      Lucy Rodrigues  29.0  59000.0         Marketing   2014-07-12     3.7\n",
            "5        Ron Monteiro  26.0  57000.0  Customer Support   2013-09-10     4.3\n",
            "6       Sophie Santos  25.0  50000.0                HR   2020-05-15     4.5\n",
            "7   Charlie Rodrigues  24.0  53000.0         Marketing   2018-12-20     4.0\n",
            "8        Zane Martins  29.0  54000.0         Logistics   2016-11-22     4.0\n",
            "9      David Ferreira  29.0  55800.0           Finance   2017-10-03     3.7\n",
            "10         Ben Santos  32.0  65000.0         Marketing   2019-01-05     3.9\n",
            "11         Abby Gomes  32.0  65000.0           Finance   2019-01-05     3.9\n",
            "12      Xavier Santos  22.0  52300.0                HR   2020-01-15     4.0\n",
            "13      Oscar Almeida  29.0  55800.0             Sales   2017-10-03     3.7\n",
            "14        Bob Pereira  31.0  62000.0         Logistics   2021-09-30     4.0\n",
            "15      Nina Oliveira  29.0  49000.0                IT   2019-07-23     4.0\n",
            "16         Jack Silva  30.0  61000.0         Marketing   2022-03-14     4.0\n",
            "17    Victor Carvalho  30.0  57000.0        Operations   2018-08-10     4.2\n",
            "18           Eve Lima  29.0  57000.0         Marketing   2019-07-23     3.8\n",
            "19        Ron Pereira  27.0  57000.0             Sales   2016-05-19     4.1\n",
            "20    Grace Rodrigues  29.0  60000.0       Engineering   2019-07-23     3.8\n",
            "21    Xavier Carvalho  22.0  52300.0           Finance   2020-01-15     4.0\n",
            "23      Lucy Carvalho  31.0  60500.0        Operations   2021-02-10     4.2\n",
            "24    Victor Oliveira  29.0  58900.0         Marketing   2019-07-23     4.6\n",
            "25        David Souza  24.0  57000.0                HR   2020-06-25     3.9\n",
            "26        Zane Santos  29.0  60000.0         Marketing   2019-07-23     3.8\n",
            "27       Henry Mendes  22.0  45000.0         Marketing   2019-07-23     4.0\n",
            "28      Oscar Martins  29.0  58900.0           Finance   2019-07-23     4.6\n",
            "29       Sophie Souza  24.0  53000.0           Finance   2018-12-20     4.0\n",
            "30          Ben Gomes  30.0  57000.0         Logistics   2018-08-10     4.2\n",
            "31        Bob Barbosa  23.0  47000.0         Logistics   2020-08-18     4.8\n",
            "32     Sophie Barbosa  22.0  52300.0  Customer Support   2020-01-15     4.0\n",
            "33   Yolanda Monteiro  29.0  57000.0                HR   2019-07-23     3.8\n",
            "34            Oscar S  31.0  60500.0                IT   2021-02-10     4.2\n",
            "35      Nina Ferreira  28.0  57000.0        Operations   2015-11-29     4.3\n",
            "36       Uma Carvalho  35.0  57000.0       Engineering   2017-03-30     4.0\n",
            "37      Grace Barbosa  25.0  50000.0       Engineering   15/05/2020     4.5\n",
            "38         Lucy Silva  28.0  57000.0         Logistics   2015-11-29     4.3\n",
            "40       Lucy Pereira  29.0  60000.0  Customer Support   2019-07-23     3.8\n",
            "41    Yolanda Almeida  29.0  58900.0                IT   2019-07-23     4.6\n",
            "42      Quinn Barbosa  29.0  56000.0        Operations   2015-10-27     4.4\n",
            "43    Frank Rodrigues  32.0  65000.0         Logistics   2019-01-05     3.9\n",
            "45       Lucy Barbosa  29.0  60000.0  Customer Support   2019-07-23     3.8\n",
            "46      Victor Santos  29.0  59000.0        Operations   07/12/2014     3.7\n",
            "47     Abby Rodrigues  29.0  60000.0  Customer Support   2019-07-23     3.8\n",
            "48   Quinn Nascimento  24.0  53000.0        Operations   2018-12-20     4.0\n",
            "49      Yolanda Gomes  31.0  60500.0         Marketing   2021-02-10     4.2\n",
            "50    Wendy Rodrigues  33.0  63000.0                HR   2019-09-25     3.9\n",
            "51          Ken Silva  25.0  50500.0        Operations   2018-04-09     4.5\n",
            "52      Jack Carvalho  22.0  45000.0             Sales   2019-07-23     4.0\n",
            "53        Eve Almeida  30.0  57000.0           Finance   2018-08-10     4.2\n",
            "55   Charlie Carvalho  24.0  53000.0  Customer Support   2018-12-20     4.0\n",
            "56      Oscar Barbosa  27.0  52000.0                IT   2019-04-18     4.7\n",
            "57         Jack Gomes  24.0  53000.0           Finance   2018-12-20     4.0\n",
            "58    Abby Nascimento  29.0  54000.0       Engineering   2016-11-22     4.0\n",
            "59          Eve Gomes  28.0  48000.0           Finance   2022-02-14     4.1\n",
            "60   Daniel Rodrigues  31.0  60500.0                HR   2021-02-10     4.2\n",
            "61       Ken Ferreira  22.0  45000.0       Engineering   2019-07-23     4.0\n",
            "63         Nina Silva  29.0  58900.0  Customer Support   2019-07-23     4.6\n",
            "64       Mike Pereira  29.0   4000.0           Finance   2019-07-23     4.0\n",
            "65     Charlie Santos  30.0  61000.0         Logistics   2022-03-14     4.0\n",
            "66      Frank Barbosa  28.0  48000.0         Logistics   2022-02-14     4.1\n",
            "69      Frank Pereira  30.0  61000.0       Engineering   2022-03-14     4.0\n",
            "70       Mike Almeida  29.0  60000.0         Marketing   2019-07-23     3.8\n",
            "71       Xavier Silva  24.0  53000.0  Customer Support   2018-12-20     4.0\n",
            "72      Mike Carvalho  29.0  58900.0         Marketing   2019-07-23     4.6\n",
            "73        Henry Gomes  33.0  51000.0        Operations   2015-06-14     3.6\n",
            "75     Grace Monteiro  24.0  57000.0         Marketing   25/06/2020     3.9\n",
            "76         Bob Santos  29.0  59000.0       Engineering   2014-07-12     3.7\n",
            "77       Oscar Santos  29.0  55000.0        Operations   2021-01-12     4.0\n",
            "78     Oscar Ferreira  31.0  60500.0                IT   2021-02-10     4.2\n",
            "79      Wendy Barbosa  24.0  53000.0         Logistics   2018-12-20     4.0\n",
            "84     Alice Monteiro  22.0  45000.0       Engineering   2019-07-23     4.0\n",
            "85     Henry Ferreira  29.0  60000.0        Operations   2019-07-23     3.8\n",
            "86          Tom Silva  29.0  58000.0             Sales   2017-12-05     3.5\n",
            "87      Paula Almeida  30.0  61000.0                IT   22/03/2022     4.0\n",
            "88     Xavier Almeida  23.0  47000.0         Marketing   2020-08-18     4.8\n",
            "90       Ben Oliveira  30.0  61000.0             Sales   2022-03-14     4.0\n",
            "92           Ben Lima  30.0  57000.0         Marketing   2018-08-10     4.2\n",
            "93       Ben Monteiro  31.0  60500.0           Finance   2021-02-10     4.2\n",
            "94         Tom Mendes  29.0  58900.0         Marketing   2019-07-23     4.6\n",
            "95          Nina Lima  29.0  49000.0         Marketing   2019-07-23     4.0\n",
            "96        Oscar Gomes  22.0  45000.0       Engineering   2019-07-23     4.0\n",
            "97      Eve Rodrigues  29.0  49000.0        Operations   2019-07-23     4.0\n",
            "98          Tom Gomes  29.0  60000.0        Operations   2019-07-23     3.8\n",
            "99       Frank Santos  31.0  62000.0         Marketing   2021-09-30     4.0\n"
          ]
        }
      ]
    },
    {
      "cell_type": "code",
      "source": [
        "print(df.sort_values(by=\"Name\").to_string())"
      ],
      "metadata": {
        "id": "Qq0yNSb-cnnj"
      },
      "execution_count": null,
      "outputs": []
    }
  ]
}